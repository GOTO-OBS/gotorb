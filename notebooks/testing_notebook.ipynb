{
 "cells": [
  {
   "cell_type": "markdown",
   "metadata": {},
   "source": [
    "### `gotorb` example notebook\n",
    "* Reproduce some of the plots from the paper using a small (~10%) subset of the test set used in the paper.\n"
   ]
  },
  {
   "cell_type": "code",
   "execution_count": null,
   "metadata": {},
   "outputs": [],
   "source": [
    "import os\n",
    "import tensorflow as tf\n",
    "import numpy as np\n",
    "import pandas as pd\n",
    "\n",
    "import matplotlib.pyplot as plt\n",
    "from mpl_toolkits.axes_grid1.inset_locator import inset_axes\n",
    "from matplotlib import gridspec\n",
    "\n",
    "from multiprocessing import cpu_count\n",
    "from scipy.stats import gaussian_kde\n",
    "from astropy.visualization import ZScaleInterval\n",
    "\n",
    "from sklearn.metrics import confusion_matrix, accuracy_score\n",
    "from sklearn.decomposition import PCA\n",
    "from sklearn.manifold import TSNE\n",
    "import hickle\n",
    "\n",
    "from gotorb.active_learning import binary_entropy\n",
    "from gotorb.classifier import dropout_pred, latentvec_pred\n",
    "\n",
    "# `disable' hyperthreading.\n",
    "tf.config.threading.set_intra_op_parallelism_threads(int(cpu_count()/2))"
   ]
  },
  {
   "cell_type": "code",
   "execution_count": null,
   "metadata": {},
   "outputs": [],
   "source": [
    "# unpack pre-made dataset\n",
    "stamps, meta = hickle.load(\"../data/datapack.hkl\")\n",
    "\n",
    "print(\"### Dataset composition ###\")\n",
    "for name in np.unique(meta.metalabel.values):\n",
    "    print(f\"{name}: {(meta.metalabel.values == name).sum()} of {len(meta)}\")\n",
    "\n",
    "# load model from hdf5 file.\n",
    "model = tf.keras.models.load_model(\"../data/gotorb_valmodel_BALDflip_20201030-170220.h5\")"
   ]
  },
  {
   "cell_type": "code",
   "execution_count": null,
   "metadata": {},
   "outputs": [],
   "source": [
    "# Deterministic classifier predictions - using `keras` predict call\n",
    "classifier_preds = model.predict(stamps, verbose=1)[:,0]\n",
    "# Bayesian predictions - enable dropout and predict a new version each time.\n",
    "posterior_preds = dropout_pred(model, stamps, verbose=1, batchsize=4096)\n",
    "posterior_scores = posterior_preds.mean(axis=1) # get flattened posteriors"
   ]
  },
  {
   "cell_type": "markdown",
   "metadata": {},
   "source": [
    "### FPR/FNR curves"
   ]
  },
  {
   "cell_type": "code",
   "execution_count": null,
   "metadata": {},
   "outputs": [],
   "source": [
    "fig, ax = plt.subplots(dpi=120)\n",
    "\n",
    "mp_mask = (meta.metalabel.values != \"syntransient\")  & (meta.metalabel != 'marshall')  & (meta.metalabel != \"glxresid\")\n",
    "trn_mask = (meta.metalabel.values != \"mp\")   & (meta.metalabel != 'marshall') & (meta.metalabel != \"randjunk\")\n",
    "\n",
    "plot_fpr = 1\n",
    "for name, msk in zip([\"MP only\", \"Transient only\"], [mp_mask, trn_mask, np.ones(len(mp_mask))]):\n",
    "\n",
    "    preds = posterior_preds.mean(axis=1)[msk]\n",
    "    labels = meta.label[msk]\n",
    "    rbbins = np.arange(-0.0001, 1.0001, 0.0001)\n",
    "\n",
    "    h_b, e_b = np.histogram(preds[(labels == 0).values], bins=rbbins, density=True)\n",
    "    rb_thres = np.array(list(range(len(h_b)))) / len(h_b)\n",
    "    h_b_c = np.cumsum(h_b)\n",
    "    h_r, e_r = np.histogram(preds[(labels == 1).values], bins=rbbins, density=True)\n",
    "    h_r_c = np.cumsum(h_r)\n",
    "\n",
    "    ax.plot(rb_thres, h_r_c / np.max(h_r_c),\n",
    "            label='{} FNR'.format(name), linewidth=1)\n",
    "    if plot_fpr:\n",
    "        ax.plot(rb_thres, 1 - h_b_c / np.max(h_b_c),\n",
    "                label='All-data FPR', linewidth=1)\n",
    "        plot_fpr = 0\n",
    "\n",
    "        mmce = (h_r_c / np.max(h_r_c) + 1 - h_b_c / np.max(h_b_c)) / 2\n",
    "        ax.plot(rb_thres, mmce, '--',\n",
    "                label='MMCE', color='gray', linewidth=1)\n",
    "\n",
    "    \n",
    "ax.set_xlim([-0.03, 1.03])\n",
    "\n",
    "ax.set_xticks(np.arange(0, 1.1, 0.1))\n",
    "ax.set_yticks(np.arange(0, 1.1, 0.1))\n",
    "\n",
    "ax.set_yscale('log')\n",
    "ax.set_ylim([5e-4, 1])\n",
    "vals = ax.get_yticks()\n",
    "\n",
    "# latex fudge - need to encode percentages differently since % is reserved in TeX.\n",
    "axylabels = ['{:,.1%}'.format(x) if x < 0.01 else '{:,.0%}'.format(x) for x in vals]\n",
    "axylabels = [r.replace(\"%\", \"$\\%$\") for r in axylabels]\n",
    "ax.set_yticklabels(axylabels)\n",
    "plt.grid()\n",
    "ax.set_xlabel(\"Real-bogus threshold\")\n",
    "ax.set_ylabel(\"Cumulative percentage\")\n",
    "plt.legend(loc=\"upper right\", bbox_to_anchor=(0.85, 1), edgecolor='k')\n",
    "\n",
    "axins = inset_axes(ax, width=\"70%\", height=\"70%\",\n",
    "                   bbox_transform=ax.transAxes, loc=3,\n",
    "                  bbox_to_anchor=(0.2, 0.6, 0.3, 0.55))\n",
    "\n",
    "\n",
    "cm_norm = confusion_matrix(meta.label[mp_mask | trn_mask], np.rint(posterior_preds.mean(axis=1)[mp_mask | trn_mask]))\n",
    "cm = confusion_matrix(meta.label[mp_mask | trn_mask], np.rint(posterior_preds.mean(axis=1)[mp_mask | trn_mask]))\n",
    "cm_norm = 100*cm_norm / cm.sum(axis=1)[:, np.newaxis] # normalise it\n",
    "axins.imshow(cm_norm, cmap='terrain_r')\n",
    "axins.set_xlabel(\"Predicted\", fontsize=8)\n",
    "axins.set_ylabel(\"True\", fontsize=8)\n",
    "axins.set_xticklabels([\"b\", \"r\"], fontsize=8)\n",
    "axins.set_yticklabels([\"b\", \"r\"], fontsize=8)\n",
    "\n",
    "axins.set(xticks=np.arange(cm.shape[1]),\n",
    "           yticks=np.arange(cm.shape[0]),\n",
    "           ylim=(1.5, -0.5),\n",
    "           )\n",
    "\n",
    "thresh = cm_norm.max() / 2.\n",
    "for i in range(cm_norm.shape[0]):\n",
    "    for j in range(cm_norm.shape[1]):\n",
    "        axins.text(j, i, '{:.2f}% \\n({:d})'.format(cm_norm[i, j], cm[i, j]),\n",
    "                ha=\"center\", va=\"center\",\n",
    "                color=\"white\" if cm_norm[i, j] > thresh else \"black\",\n",
    "                size=8)\n",
    "        \n",
    "plt.show()"
   ]
  },
  {
   "cell_type": "markdown",
   "metadata": {},
   "source": [
    "### What do the resultant posteriors look like?"
   ]
  },
  {
   "cell_type": "code",
   "execution_count": null,
   "metadata": {},
   "outputs": [],
   "source": [
    "def plot_example(stamps, posterior, meta):\n",
    "    titles = [\"SCIENCE\", \"TEMPLATE\", \"DIFFERENCE\"]\n",
    "    fig, ax = plt.subplots(1, 4, dpi=120)\n",
    "    for a, label in enumerate(titles):\n",
    "        scaler = ZScaleInterval()\n",
    "        vlo, vhi = scaler.get_limits(stamps[:,:,a])\n",
    "        ax[a].imshow(stamps[:, :, a], aspect=1, cmap='Greys_r', vmin=vlo, vmax=vhi)\n",
    "        ax[a].set_title(label)\n",
    "        ax[a].set_frame_on(False)\n",
    "        ax[a].tick_params(top=False, bottom=False, left=False, right=False,\n",
    "                      labeltop=False, labelbottom=False, labelleft=False, labelright=False)\n",
    "    \n",
    "    samplerange = np.linspace(0, 1, 1000)\n",
    "    kde = gaussian_kde(posterior, bw_method=\"silverman\")\n",
    "    kde_sampled = kde(samplerange)\n",
    "    ax[3].fill_between(samplerange, 0, kde_sampled)\n",
    "    plt.ylim(0, )\n",
    "    ax[3].set_aspect(1./ax[3].get_data_ratio())\n",
    "    ax[3].spines['right'].set_visible(False)\n",
    "    ax[3].spines['top'].set_visible(False)\n",
    "    ax[3].spines['left'].set_visible(False)\n",
    "    ax[3].tick_params(left=False, labelleft=False, top=False, right=False)\n",
    "    ax[3].axvline(0.5, c='k', lw=1, zorder=-1, ls='--')\n",
    "    \n",
    "    confidence = 1 - np.mean(binary_entropy(posterior))\n",
    "    ttl = fig.suptitle(f\"Score: {posterior.mean():.2f}  Label: {meta.label.astype(int), meta.metalabel}  Conf.: {confidence:.2f}\", y=0.80)"
   ]
  },
  {
   "cell_type": "code",
   "execution_count": null,
   "metadata": {
    "scrolled": false
   },
   "outputs": [],
   "source": [
    "confidence = 1 - np.mean(binary_entropy(posterior_preds), axis=1)\n",
    "\n",
    "# plot the bottom end of the confidence distribution\n",
    "for idx in np.argsort(confidence)[np.arange(0, int(len(confidence)/5), 50)]:\n",
    "    plot_example(stamps[idx], posterior_preds[idx], meta.iloc[idx])"
   ]
  },
  {
   "cell_type": "markdown",
   "metadata": {},
   "source": [
    "### t-SNE embedding\n",
    "* Interactive figure compared to the paper - can click through the flattened latent space and identify clusters of weird."
   ]
  },
  {
   "cell_type": "code",
   "execution_count": null,
   "metadata": {},
   "outputs": [],
   "source": [
    "fvec = latentvec_pred(model, stamps, batchsize=2048, verbose=True)\n",
    "\n",
    "# PCA reduce first to 50ish dimensions for convergence help\n",
    "print(\"Computing PCA reduction\")\n",
    "PCA_red = PCA(n_components=50).fit_transform(fvec)\n",
    "PCA_complete = PCA(n_components=2).fit_transform(fvec)\n",
    "\n",
    "# compute t-SNE embedding\n",
    "nphyscores = int(cpu_count()/2)\n",
    "print(\"Starting t-SNE embedding task -- this might take a while!\")\n",
    "TSNE_red = TSNE(n_components=2, verbose=1, n_jobs=ncores).fit_transform(PCA_red)"
   ]
  },
  {
   "cell_type": "code",
   "execution_count": null,
   "metadata": {},
   "outputs": [],
   "source": [
    "def plot_latentspace(fig, x, y, color_by):\n",
    "    latent_testvec = np.array([x,y])\n",
    "\n",
    "    # set up subplot grid\n",
    "    gridspec.GridSpec(3,3)\n",
    "\n",
    "    plt.subplot2grid((3,3), (0,0), colspan=3, rowspan=2)\n",
    "    plt.scatter(TSNE_red[:,0], TSNE_red[:,1], cmap='viridis', c=color_by, s=0.1)\n",
    "    lvmark = plt.scatter(*latent_testvec, marker='*', c='r')\n",
    "    plt.xlabel(\"latent vector 1\")\n",
    "    plt.ylabel(\"latent vector 2\")\n",
    "    plt.title(\"t-SNE latent space plot\")\n",
    "    plt.colorbar()\n",
    "\n",
    "    nn_idx = np.argmin(np.linalg.norm(TSNE_red - latent_testvec, axis=1))\n",
    "    stampchoice = stamps[nn_idx]\n",
    "    \n",
    "    labels = [\"SCI\", \"TEMP\", \"DIFF\"]\n",
    "    \n",
    "    for i in range(0, 3):\n",
    "        plt.subplot2grid((3,3), (2,i))\n",
    "        scaler = ZScaleInterval()\n",
    "        vlo, vhi = scaler.get_limits(stampchoice[:,:,i])\n",
    "        plt.imshow(stampchoice[:,:,i], aspect=1, cmap='Greys_r', vmin=vlo, vmax=vhi)\n",
    "        plt.xticks([])\n",
    "        plt.yticks([])\n",
    "        plt.xlabel(labels[i])\n",
    "    plt.tight_layout()\n",
    "    \n",
    "    \n",
    "# make class-based colormap\n",
    "transient_flag = meta.metalabel.values == \"syntransient\"\n",
    "mp_flag = meta.metalabel.values == \"mp\"\n",
    "randjunk_flag = meta.metalabel.values == \"randjunk\"\n",
    "marshall_flag = meta.metalabel.values == \"marshall\"\n",
    "resid_flag = meta.metalabel.values == \"glxresid\"\n",
    "\n",
    "colours = [1, 0.75, 0.5, 0.25, 0]\n",
    "flags = [transient_flag, mp_flag, randjunk_flag, marshall_flag, resid_flag]\n",
    "names = [\"syntransient\", \"mp\", \"randjunk\", \"marshall\", \"glxresid\"]\n",
    "class_cmap = np.zeros(len(meta))\n",
    "\n",
    "for coef, flg in zip(colours, flags):\n",
    "    class_cmap += coef*flg.astype(float)"
   ]
  },
  {
   "cell_type": "markdown",
   "metadata": {},
   "source": [
    "### Interactive figure\n",
    "* Click anywhere to move to that point in latent space - the stamp previews will update.\n",
    "* Switch colourmap by changing the cmap variable to one of [`confidence`, `posterior_scores`, `class_cmap`]"
   ]
  },
  {
   "cell_type": "code",
   "execution_count": null,
   "metadata": {},
   "outputs": [],
   "source": [
    "%matplotlib notebook\n",
    "fig = plt.figure(dpi=120)\n",
    "\n",
    "cmap = class_cmap\n",
    "\n",
    "plot_latentspace(fig, 0, 0, cmap) # init plot at (0,0)\n",
    "\n",
    "\n",
    "def onclick(event):\n",
    "    cx, cy = event.xdata, event.ydata\n",
    "    fig.clf()\n",
    "    plot_latentspace(fig, cx, cy, cmap)\n",
    "    \n",
    "\n",
    "cid = fig.canvas.mpl_connect('button_press_event', onclick)"
   ]
  },
  {
   "cell_type": "code",
   "execution_count": null,
   "metadata": {},
   "outputs": [],
   "source": []
  }
 ],
 "metadata": {
  "kernelspec": {
   "display_name": "Python 3",
   "language": "python",
   "name": "python3"
  },
  "language_info": {
   "codemirror_mode": {
    "name": "ipython",
    "version": 3
   },
   "file_extension": ".py",
   "mimetype": "text/x-python",
   "name": "python",
   "nbconvert_exporter": "python",
   "pygments_lexer": "ipython3",
   "version": "3.6.8"
  }
 },
 "nbformat": 4,
 "nbformat_minor": 4
}
